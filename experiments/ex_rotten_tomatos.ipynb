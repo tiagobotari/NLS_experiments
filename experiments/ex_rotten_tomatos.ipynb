{
 "cells": [
  {
   "cell_type": "markdown",
   "metadata": {},
   "source": [
    "# Short sentiment snippets (the Pang/Lee Rotten Tomatoes dataset)\n",
    "Dataset Informations: https://nlp.stanford.edu/wiki/Software/Classifier/Sentiment\n",
    "\n",
    "Dowload the data from http://www.cs.cornell.edu/People/pabo/movie-review-data/rt-polaritydata.tar.gz to the folder:\n",
    "```\n",
    "melime/experiments/data/ \n",
    "```\n",
    "unzip the data. You can use something as:\n",
    "```\n",
    "tar -xzf rt-polaritydata.tar.gz\n",
    "```"
   ]
  },
  {
   "cell_type": "code",
   "execution_count": 1,
   "metadata": {},
   "outputs": [],
   "source": [
    "import sys, os\n",
    "sys.path.append('..')\n",
    "\n",
    "import numpy as np\n",
    "from matplotlib import pyplot as plt\n",
    "from sklearn import metrics\n",
    "from sklearn.naive_bayes import MultinomialNB\n",
    "from sklearn.model_selection import train_test_split\n",
    "from sklearn.feature_extraction.text import CountVectorizer\n",
    "from sklearn.feature_extraction.text import TfidfTransformer\n",
    "from sklearn.feature_extraction.text import TfidfVectorizer\n",
    "\n",
    "import lime\n",
    "\n",
    "from sklearn.pipeline import make_pipeline\n",
    "\n",
    "from nnlocallinear import NLS, LLS, NNPredict"
   ]
  },
  {
   "cell_type": "markdown",
   "metadata": {},
   "source": [
    "### Load dataset"
   ]
  },
  {
   "cell_type": "code",
   "execution_count": 2,
   "metadata": {},
   "outputs": [],
   "source": [
    "os.makedirs(\"data\", exist_ok=True)\n",
    "path_ = './data/rt-polaritydata/'\n",
    "def load_polarity(path=path_):\n",
    "    data = []\n",
    "    labels = []\n",
    "    f_names = ['rt-polarity.neg', 'rt-polarity.pos']\n",
    "    for (l, f) in enumerate(f_names):\n",
    "        for line in open(os.path.join(path, f), 'rb'):\n",
    "            data.append(line.decode('utf8', errors='ignore').strip())\n",
    "            labels.append(l)\n",
    "    return data, labels"
   ]
  },
  {
   "cell_type": "code",
   "execution_count": 3,
   "metadata": {},
   "outputs": [],
   "source": [
    "x, y = load_polarity()\n",
    "x_train_all, x_test, y_train_all, y_test = train_test_split(\n",
    "    x, y, test_size=.2, random_state=42)\n",
    "x_train, x_val, y_train, y_val = train_test_split(\n",
    "    x_train_all, y_train_all, test_size=.1, random_state=42)\n",
    "y_train = np.array(y_train)\n",
    "y_test = np.array(y_test)\n",
    "y_val = np.array(y_val)"
   ]
  },
  {
   "cell_type": "markdown",
   "metadata": {},
   "source": [
    "### Vectorize Text"
   ]
  },
  {
   "cell_type": "code",
   "execution_count": 4,
   "metadata": {},
   "outputs": [],
   "source": [
    "class VectorizeText():\n",
    "        def __init__(self):\n",
    "            self.count_vect = CountVectorizer()\n",
    "            self.tf_transformer = TfidfTransformer(use_idf=False)\n",
    "        def fit(self, x):\n",
    "            x = self.count_vect.fit_transform(x)\n",
    "            self.tf_transformer.fit(x)\n",
    "        def transform(self, x):\n",
    "            x = self.count_vect.transform(x)\n",
    "            x = self.tf_transformer.transform(x)\n",
    "            return x.toarray()     \n",
    "        def get_feature_names(self):\n",
    "            return vectorizer.count_vect.get_feature_names()"
   ]
  },
  {
   "cell_type": "code",
   "execution_count": 5,
   "metadata": {},
   "outputs": [],
   "source": [
    "vectorizer = VectorizeText()\n",
    "vectorizer.fit(x_train)    \n",
    "x_vec_train = vectorizer.transform(x_train)\n",
    "x_vec_test = vectorizer.transform(x_test)"
   ]
  },
  {
   "cell_type": "code",
   "execution_count": 6,
   "metadata": {},
   "outputs": [],
   "source": [
    "names_features = np.array(vectorizer.get_feature_names())"
   ]
  },
  {
   "cell_type": "code",
   "execution_count": 7,
   "metadata": {},
   "outputs": [],
   "source": [
    "# vectorizer = TfidfVectorizer(lowercase=False)\n",
    "# train_vectors = vectorizer.fit_transform(x_train)\n",
    "# x_vec_train = vectorizer.transform(x_train).toarray()\n",
    "# x_vec_test = vectorizer.transform(x_test).toarray()\n",
    "# tokenizer = vectorizer.build_tokenizer()\n",
    "\n",
    "# len(names_features)"
   ]
  },
  {
   "source": [
    "# Training NLS Model"
   ],
   "cell_type": "markdown",
   "metadata": {}
  },
  {
   "cell_type": "code",
   "execution_count": 8,
   "metadata": {},
   "outputs": [
    {
     "output_type": "execute_result",
     "data": {
      "text/plain": "&#39;a piquant meditation on the things that prevent people from reaching happiness .&#39;"
     },
     "metadata": {},
     "execution_count": 8
    }
   ],
   "source": [
    "x_train[0]"
   ]
  },
  {
   "cell_type": "code",
   "execution_count": 9,
   "metadata": {},
   "outputs": [],
   "source": [
    "words = np.argwhere(x_vec_train[0]!=0)"
   ]
  },
  {
   "cell_type": "code",
   "execution_count": 10,
   "metadata": {},
   "outputs": [
    {
     "output_type": "execute_result",
     "data": {
      "text/plain": "array([[&#39;from&#39;],\n       [&#39;happiness&#39;],\n       [&#39;meditation&#39;],\n       [&#39;on&#39;],\n       [&#39;people&#39;],\n       [&#39;piquant&#39;],\n       [&#39;prevent&#39;],\n       [&#39;reaching&#39;],\n       [&#39;that&#39;],\n       [&#39;the&#39;],\n       [&#39;things&#39;]], dtype=&#39;&lt;U18&#39;)"
     },
     "metadata": {},
     "execution_count": 10
    }
   ],
   "source": [
    "names_features[words]"
   ]
  },
  {
   "cell_type": "code",
   "execution_count": 11,
   "metadata": {},
   "outputs": [],
   "source": [
    "# parameters = {\n",
    "#         'model__es_give_up_after_nepochs': [20]\n",
    "#         , 'model__hidden_size': [100, 250, 50, 20]\n",
    "#         , 'model__num_layers': [3, 2, 3, 4, 5]\n",
    "#     }\n",
    "\n",
    "comb_parameters = [{\n",
    "        'es_give_up_after_nepochs': 20\n",
    "        , 'hidden_size': 100\n",
    "        , 'num_layers': 3\n",
    "        , 'n_classification_labels': 2\n",
    "        # , 'penalization_thetas': 0.0\n",
    "    }\n",
    "        ]"
   ]
  },
  {
   "cell_type": "code",
   "execution_count": 32,
   "metadata": {},
   "outputs": [],
   "source": [
    "for parameter in comb_parameters:\n",
    "    model = NLS(\n",
    "        verbose=0\n",
    "        , es=True\n",
    "        , gpu=True\n",
    "        , scale_data=False\n",
    "        , varying_theta0=True\n",
    "        , fixed_theta0=False\n",
    "        , dataloader_workers=0\n",
    "        # , with_mean=False\n",
    "        , **parameter\n",
    "    ) \n",
    "    model.fit(x_train=x_vec_train, y_train=y_train)"
   ]
  },
  {
   "source": [
    "## Testing Model"
   ],
   "cell_type": "markdown",
   "metadata": {}
  },
  {
   "cell_type": "code",
   "execution_count": 33,
   "metadata": {
    "tags": []
   },
   "outputs": [
    {
     "output_type": "stream",
     "name": "stdout",
     "text": "F1 Score: 0.715438950554995\nAccuracy 0.7355836849507735\n"
    }
   ],
   "source": [
    "y_pred = model.predict(x_vec_test)\n",
    "print('F1 Score:', metrics.f1_score(y_test, y_pred, average='binary'))\n",
    "print('Accuracy', metrics.accuracy_score(y_test, y_pred, normalize=True, sample_weight=None))"
   ]
  },
  {
   "cell_type": "code",
   "execution_count": 31,
   "metadata": {
    "tags": []
   },
   "outputs": [
    {
     "output_type": "stream",
     "name": "stdout",
     "text": "Val accuracy 0.7529301453352086\n"
    }
   ],
   "source": [
    "def predict(texts):\n",
    "    return model.predict(vectorizer.transform(texts))\n",
    "\n",
    "def predict_prob(texts):\n",
    "    return model.predict_proba(vectorizer.transform(texts))\n",
    "\n",
    "y_p = predict(x_test)\n",
    "print('Val accuracy', metrics.accuracy_score(y_test, y_p))\n"
   ]
  },
  {
   "source": [
    "## Instance"
   ],
   "cell_type": "markdown",
   "metadata": {}
  },
  {
   "cell_type": "code",
   "execution_count": 28,
   "metadata": {
    "tags": []
   },
   "outputs": [
    {
     "output_type": "stream",
     "name": "stdout",
     "text": "x_explain: [&quot;the movie&#39;s thesis -- elegant technology for the masses -- is surprisingly refreshing .&quot;]\nthe movie&#39;s thesis -- elegant technology for the masses -- is surprisingly refreshing .\nPredicted class: [1]\nPredict probabilities: [[0.16485657 0.8351434 ]]\nTrue class: 1\n"
    }
   ],
   "source": [
    "x_explain = [x_test[1]]\n",
    "x_vec_explain = [x_vec_test[1]]\n",
    "print('x_explain:', x_explain)\n",
    "print(x_explain[0])\n",
    "print('Predicted class:', model.predict(x_vec_explain)[0])\n",
    "print('Predict probabilities:', model.predict_proba(x_vec_explain))\n",
    "print('True class:', y_test[1])"
   ]
  },
  {
   "cell_type": "markdown",
   "metadata": {},
   "source": [
    "### Generating Explanation"
   ]
  },
  {
   "cell_type": "code",
   "execution_count": 16,
   "metadata": {},
   "outputs": [],
   "source": [
    "feature_names=[f'{e}: {word}' for e, word in enumerate(x_explain[0].split())]\n",
    "words=np.array([f'{word}' for e, word in enumerate(x_explain[0].split())])\n"
   ]
  },
  {
   "cell_type": "code",
   "execution_count": 17,
   "metadata": {},
   "outputs": [
    {
     "output_type": "execute_result",
     "data": {
      "text/plain": "[&#39;0: the&#39;,\n &quot;1: movie&#39;s&quot;,\n &#39;2: thesis&#39;,\n &#39;3: --&#39;,\n &#39;4: elegant&#39;,\n &#39;5: technology&#39;,\n &#39;6: for&#39;,\n &#39;7: the&#39;,\n &#39;8: masses&#39;,\n &#39;9: --&#39;,\n &#39;10: is&#39;,\n &#39;11: surprisingly&#39;,\n &#39;12: refreshing&#39;,\n &#39;13: .&#39;]"
     },
     "metadata": {},
     "execution_count": 17
    }
   ],
   "source": [
    "feature_names"
   ]
  },
  {
   "cell_type": "code",
   "execution_count": 18,
   "metadata": {
    "tags": []
   },
   "outputs": [
    {
     "output_type": "stream",
     "name": "stdout",
     "text": "[3.05085108]\n"
    }
   ],
   "source": [
    "print(np.sum(x_vec_explain, axis=1))"
   ]
  },
  {
   "cell_type": "code",
   "execution_count": 19,
   "metadata": {
    "tags": []
   },
   "outputs": [
    {
     "output_type": "stream",
     "name": "stdout",
     "text": "[3.05085108]\n"
    }
   ],
   "source": [
    "print(np.sum(x_vec_explain, axis=1))"
   ]
  },
  {
   "cell_type": "code",
   "execution_count": 20,
   "metadata": {},
   "outputs": [
    {
     "output_type": "execute_result",
     "data": {
      "text/plain": "array([[ 4402],\n       [ 5468],\n       [ 7387],\n       [ 8486],\n       [ 9004],\n       [11214],\n       [13582],\n       [13833],\n       [13938],\n       [13971]])"
     },
     "metadata": {},
     "execution_count": 20
    }
   ],
   "source": [
    "np.argwhere(x_vec_explain[0] != 0)"
   ]
  },
  {
   "cell_type": "code",
   "execution_count": 21,
   "metadata": {},
   "outputs": [],
   "source": [
    "def get_explanation(x_vec_explain, document, num_features=10):\n",
    "        \n",
    "        explanation = model.get_thetas(x_pred=x_vec_explain, net_scale=True)\n",
    "        betas = explanation[2][0]\n",
    "        print('len(betas)', len(betas))\n",
    "        words_from_text_indices = np.argwhere(x_vec_explain[0] != 0).reshape(-1)\n",
    "        print('len(words_from_text_indices)', len(words_from_text_indices))\n",
    "        # Prediction from the model\n",
    "        prediction = model.predict(x_vec_explain).reshape(-1)\n",
    "        predict_proba = model.predict_proba(x_vec_explain).reshape(-1)\n",
    "        ind_pred_proba = np.argsort(predict_proba)[::-1]\n",
    "        print('probabilities: ', ind_pred_proba)\n",
    "        \n",
    "        # col_betas = int(prediction)\n",
    "        col_betas = ind_pred_proba[0]\n",
    "        col_betas_neg = ind_pred_proba[1]\n",
    "\n",
    "        betas_document = betas[words_from_text_indices, col_betas]\n",
    "        print('betas_document len:', len(betas_document))\n",
    "        betas_document_neg = betas[words_from_text_indices, col_betas_neg]\n",
    "\n",
    "        betas_final = betas_document - betas_document_neg\n",
    "        words_features_document = names_features[words_from_text_indices].reshape(-1)\n",
    "        \n",
    "        return dict(\n",
    "            chi_names=words_features_document,\n",
    "            chi_values=words_features_document,\n",
    "            x_values=words_features_document,\n",
    "            x_names=words_features_document,\n",
    "            y_p=predict_prob(x_explain)[0, 1],\n",
    "            y_p_max=1.0,\n",
    "            y_p_min=0.0,\n",
    "            y_p_local_model=predict_prob(x_explain)[0, 1],\n",
    "            y_p_local_model_max=None,\n",
    "            y_p_local_model_min=None,\n",
    "            error=None,\n",
    "            importances=betas_final,\n",
    "            importances_rank1=betas_document,\n",
    "            importances_rank2=betas_document_neg, \n",
    "            diff_convergence_importances=None,\n",
    "            ind_class_sorted=0,\n",
    "            class_names= [\"probability\"]\n",
    "        )"
   ]
  },
  {
   "cell_type": "code",
   "execution_count": 22,
   "metadata": {
    "tags": []
   },
   "outputs": [
    {
     "output_type": "stream",
     "name": "stdout",
     "text": "len(betas) 15670\nlen(words_from_text_indices) 10\nprobabilities:  [1 0]\nbetas_document len: 10\n"
    }
   ],
   "source": [
    "explain_dict = get_explanation(x_vec_explain, x_explain, num_features=13)"
   ]
  },
  {
   "cell_type": "code",
   "execution_count": 23,
   "metadata": {},
   "outputs": [
    {
     "output_type": "execute_result",
     "data": {
      "text/plain": "(10,)"
     },
     "metadata": {},
     "execution_count": 23
    }
   ],
   "source": [
    "explain_dict['chi_names'].shape"
   ]
  },
  {
   "cell_type": "code",
   "execution_count": 24,
   "metadata": {},
   "outputs": [],
   "source": [
    "from explainers.visualizations.plot_importance import ExplainGraph"
   ]
  },
  {
   "cell_type": "code",
   "execution_count": 25,
   "metadata": {},
   "outputs": [
    {
     "output_type": "execute_result",
     "data": {
      "text/plain": "[&#39;0: the&#39;,\n &quot;1: movie&#39;s&quot;,\n &#39;2: thesis&#39;,\n &#39;3: --&#39;,\n &#39;4: elegant&#39;,\n &#39;5: technology&#39;,\n &#39;6: for&#39;,\n &#39;7: the&#39;,\n &#39;8: masses&#39;,\n &#39;9: --&#39;,\n &#39;10: is&#39;,\n &#39;11: surprisingly&#39;,\n &#39;12: refreshing&#39;,\n &#39;13: .&#39;]"
     },
     "metadata": {},
     "execution_count": 25
    }
   ],
   "source": [
    "feature_names"
   ]
  },
  {
   "cell_type": "code",
   "execution_count": 26,
   "metadata": {},
   "outputs": [
    {
     "output_type": "display_data",
     "data": {
      "text/plain": "&lt;Figure size 576x648 with 1 Axes&gt;",
      "image/png": "[encoded data removed]"
     },
     "metadata": {}
    }
   ],
   "source": [
    "fig, ax = plt.subplots(figsize=(8, 9))\n",
    "ax.set_title('Importance', fontsize=25)\n",
    "names = explain_dict['chi_names']\n",
    "importances = explain_dict['importances']\n",
    "ax = ExplainGraph.plot_feature_importance(\n",
    "ax=ax, names=names, vals=importances, size_title=15)\n",
    "plt.savefig('text_explanation.pdf', dpi=300)"
   ]
  },
  {
   "cell_type": "markdown",
   "metadata": {},
   "source": [
    "Thank you!"
   ]
  }
 ],
 "metadata": {
  "kernelspec": {
   "display_name": "Python 3.7.7 64-bit ('nnlle': conda)",
   "language": "python",
   "name": "python37764bitnnlleconda09182230bd43406bacde2e1747059ec0"
  },
  "language_info": {
   "codemirror_mode": {
    "name": "ipython",
    "version": 3
   },
   "file_extension": ".py",
   "mimetype": "text/x-python",
   "name": "python",
   "nbconvert_exporter": "python",
   "pygments_lexer": "ipython3",
   "version": "3.7.7-final"
  }
 },
 "nbformat": 4,
 "nbformat_minor": 4
}